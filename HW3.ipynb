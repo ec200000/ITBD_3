{
 "cells": [
  {
   "cell_type": "markdown",
   "metadata": {
    "application/vnd.databricks.v1+cell": {
     "cellMetadata": {
      "byteLimit": 2048000,
      "rowLimit": 10000
     },
     "inputWidgets": {},
     "nuid": "37a50d18-2bf8-416f-bb75-76524c8aff3d",
     "showTitle": false,
     "tableResultSettingsMap": {},
     "title": ""
    }
   },
   "source": [
    "# Introduction to Big Data Technologies - Ex3\n",
    "## PySpark MapReduce\n",
    "In this exercise you will answer data analysis questions using the PySpark map-reduce API the RDD object exposes.\n",
    "\n",
    "**Tip 1:** Think how you handle missing or empty data<br>\n",
    "**Tip 2:** Some datasets may be very large and take a long time to run commands on. Think how you can limit the size of the dataset while you're experimenting with PySpark commands"
   ]
  },
  {
   "cell_type": "markdown",
   "metadata": {
    "application/vnd.databricks.v1+cell": {
     "cellMetadata": {
      "byteLimit": 2048000,
      "rowLimit": 10000
     },
     "inputWidgets": {},
     "nuid": "f63d1759-a533-4abc-a59e-84dedf974856",
     "showTitle": false,
     "tableResultSettingsMap": {},
     "title": ""
    }
   },
   "source": [
    "## 3.0. Loading the data"
   ]
  },
  {
   "cell_type": "code",
   "execution_count": 0,
   "metadata": {
    "application/vnd.databricks.v1+cell": {
     "cellMetadata": {
      "byteLimit": 2048000,
      "rowLimit": 10000
     },
     "inputWidgets": {},
     "nuid": "db9616f7-4392-47d7-b048-f7677fceabda",
     "showTitle": false,
     "tableResultSettingsMap": {},
     "title": ""
    }
   },
   "outputs": [
    {
     "name": "stdout",
     "output_type": "stream",
     "text": [
      "Out[1]: pyspark.rdd.RDD"
     ]
    }
   ],
   "source": [
    "### loading a CSV file as a PySpark RDD object\n",
    "gowalla_nyc_rdd = spark.read.format('csv').options(header='true', inferSchema='true').load('/FileStore/tables/gowalla_NYC_with_context.csv').rdd\n",
    "\n",
    "# Notice the type - pyspark.rdd.RDD\n",
    "type(gowalla_nyc_rdd)"
   ]
  },
  {
   "cell_type": "markdown",
   "metadata": {
    "application/vnd.databricks.v1+cell": {
     "cellMetadata": {
      "byteLimit": 2048000,
      "rowLimit": 10000
     },
     "inputWidgets": {},
     "nuid": "26e27366-ab1a-444d-9efa-aa767f121b73",
     "showTitle": false,
     "tableResultSettingsMap": {},
     "title": ""
    }
   },
   "source": [
    "Let's take a quick look at the data"
   ]
  },
  {
   "cell_type": "code",
   "execution_count": 0,
   "metadata": {
    "application/vnd.databricks.v1+cell": {
     "cellMetadata": {
      "byteLimit": 2048000,
      "rowLimit": 10000
     },
     "inputWidgets": {},
     "nuid": "54889fdf-a4c5-471e-b2a8-e9844395f3c5",
     "showTitle": false,
     "tableResultSettingsMap": {},
     "title": ""
    }
   },
   "outputs": [
    {
     "name": "stdout",
     "output_type": "stream",
     "text": [
      "Out[2]: 497180"
     ]
    }
   ],
   "source": [
    "gowalla_nyc_rdd.count()"
   ]
  },
  {
   "cell_type": "code",
   "execution_count": 0,
   "metadata": {
    "application/vnd.databricks.v1+cell": {
     "cellMetadata": {
      "byteLimit": 2048000,
      "rowLimit": 10000
     },
     "inputWidgets": {},
     "nuid": "1a8dce9e-df0e-41f8-8623-b8cebf4040ab",
     "showTitle": false,
     "tableResultSettingsMap": {},
     "title": ""
    }
   },
   "outputs": [
    {
     "name": "stdout",
     "output_type": "stream",
     "text": [
      "Out[3]: 5009"
     ]
    }
   ],
   "source": [
    "gowalla_small_rdd = gowalla_nyc_rdd.sample(False, 0.01)\n",
    "gowalla_small_rdd.count()"
   ]
  },
  {
   "cell_type": "code",
   "execution_count": 0,
   "metadata": {
    "application/vnd.databricks.v1+cell": {
     "cellMetadata": {
      "byteLimit": 2048000,
      "rowLimit": 10000
     },
     "inputWidgets": {},
     "nuid": "13f1c148-fade-4e26-a8ae-fc7c162c3615",
     "showTitle": false,
     "tableResultSettingsMap": {},
     "title": ""
    }
   },
   "outputs": [
    {
     "name": "stdout",
     "output_type": "stream",
     "text": [
      "Out[4]: [Row(userid=5144, placeid=592233, datetime=datetime.datetime(2010, 7, 9, 1, 59, 28), lng=-73.9862982274, lat=40.7478105501, spot_categories=\"[{'url': '/categories/199', 'name': 'Hotel'}]\", gencat='Travel', partOfDay='Night', isWeekend=False, Month=7, Season='Summer', onlyDate=datetime.date(2010, 7, 9), -3num=None, -3dist=None, -3_Community='none', -3_Entertainment='none', -3_Food='none', -3_Nightlife='none', -3_Outdoors='none', -3_Shopping='none', -3_Travel='none', minus3num=None, minus3dist=None),\n",
      " Row(userid=5144, placeid=935170, datetime=datetime.datetime(2010, 7, 8, 21, 59, 29), lng=-73.98103916, lat=40.78229314, spot_categories=\"[{'url': '/categories/47', 'name': 'Modern Hotel'}]\", gencat='Travel', partOfDay='Evening', isWeekend=False, Month=7, Season='Summer', onlyDate=datetime.date(2010, 7, 8), -3num=None, -3dist=None, -3_Community='none', -3_Entertainment='none', -3_Food='none', -3_Nightlife='none', -3_Outdoors='none', -3_Shopping='none', -3_Travel='none', minus3num=None, minus3dist=None),\n",
      " Row(userid=5144, placeid=391764, datetime=datetime.datetime(2010, 7, 7, 23, 20, 41), lng=-73.98040828, lat=40.78199877, spot_categories=\"[{'url': '/categories/154', 'name': 'Burgers'}]\", gencat='Food', partOfDay='Night', isWeekend=False, Month=7, Season='Summer', onlyDate=datetime.date(2010, 7, 7), -3num=None, -3dist=None, -3_Community='none', -3_Entertainment='none', -3_Food='none', -3_Nightlife='none', -3_Outdoors='none', -3_Shopping='none', -3_Travel='none', minus3num=None, minus3dist=None),\n",
      " Row(userid=34240, placeid=11835, datetime=datetime.datetime(2010, 7, 23, 1, 28, 33), lng=-73.982180357, lat=40.7532308669, spot_categories=\"[{'url': '/categories/102', 'name': 'Library'}]\", gencat='Community', partOfDay='Night', isWeekend=False, Month=7, Season='Summer', onlyDate=datetime.date(2010, 7, 23), -3num=1.0, -3dist=5.648179530698962, -3_Community='none', -3_Entertainment='none', -3_Food='none', -3_Nightlife='none', -3_Outdoors='most', -3_Shopping='none', -3_Travel='none', minus3num='1-2', minus3dist='>1'),\n",
      " Row(userid=34240, placeid=19822, datetime=datetime.datetime(2010, 7, 23, 0, 40, 21), lng=-74.0105454333, lat=40.7071727167, spot_categories=\"[{'url': '/categories/166', 'name': 'Historic Landmark'}]\", gencat='Outdoors', partOfDay='Night', isWeekend=False, Month=7, Season='Summer', onlyDate=datetime.date(2010, 7, 23), -3num=None, -3dist=None, -3_Community='none', -3_Entertainment='none', -3_Food='none', -3_Nightlife='none', -3_Outdoors='none', -3_Shopping='none', -3_Travel='none', minus3num=None, minus3dist=None)]"
     ]
    }
   ],
   "source": [
    "gowalla_nyc_rdd.take(5)"
   ]
  },
  {
   "cell_type": "markdown",
   "metadata": {
    "application/vnd.databricks.v1+cell": {
     "cellMetadata": {
      "byteLimit": 2048000,
      "rowLimit": 10000
     },
     "inputWidgets": {},
     "nuid": "45e47690-ecd3-419e-8925-64eca1f33d2e",
     "showTitle": false,
     "tableResultSettingsMap": {},
     "title": ""
    }
   },
   "source": [
    "## 3.1. How many users have visited more than 10 places?\n",
    "\n",
    "**Note:** the expected answer is a single number representing the total number of unique users who have visited more than 10 different places\n",
    "\n",
    "You **must** perform this calculation using a single string of RDD map-reduce transformations ending with a single action, and no other commands - both PySpark commands specifically, and Python commands generally!\n",
    "\n",
    "\n",
    "\n",
    "<div style=\"color:blue\">(12 points)</div>"
   ]
  },
  {
   "cell_type": "code",
   "execution_count": 0,
   "metadata": {
    "application/vnd.databricks.v1+cell": {
     "cellMetadata": {
      "byteLimit": 2048000,
      "rowLimit": 10000
     },
     "inputWidgets": {},
     "nuid": "d0713141-9998-4a5a-a104-767c34a2b668",
     "showTitle": false,
     "tableResultSettingsMap": {},
     "title": ""
    }
   },
   "outputs": [
    {
     "name": "stdout",
     "output_type": "stream",
     "text": [
      "Out[13]: 6150"
     ]
    }
   ],
   "source": [
    "gowalla_nyc_rdd.map(lambda r: (r.userid, {r.placeid}))\\\n",
    "    .reduceByKey(lambda a, b: a.union(b))\\\n",
    "    .filter(lambda x: len(x[1]) > 10)\\\n",
    "    .count()"
   ]
  },
  {
   "cell_type": "markdown",
   "metadata": {
    "application/vnd.databricks.v1+cell": {
     "cellMetadata": {
      "byteLimit": 2048000,
      "rowLimit": 10000
     },
     "inputWidgets": {},
     "nuid": "a178bb8d-3a29-4357-abc2-af4b2a577773",
     "showTitle": false,
     "tableResultSettingsMap": {},
     "title": ""
    }
   },
   "source": [
    "## 3.2. Display the top place (latitude and longitude) with the highest number of visitors during weekends.\n",
    "\n",
    "**Note:** the expected answer is a tuple with the \"ing\" and the \"lat\"\n",
    "\n",
    "**Hint:** The \"isWeekend\" column is already defined\n",
    "\n",
    "You **must** perform this calculation using a single string of RDD map-reduce transformations ending with a single action, and no other commands - both PySpark commands specifically, and Python commands generally!\n",
    " \n",
    "\n",
    "<div style=\"color:blue\">(14 points)</div>"
   ]
  },
  {
   "cell_type": "code",
   "execution_count": 0,
   "metadata": {
    "application/vnd.databricks.v1+cell": {
     "cellMetadata": {
      "byteLimit": 2048000,
      "rowLimit": 10000
     },
     "inputWidgets": {},
     "nuid": "a26f84f5-7802-4fa5-aad2-d845883fc294",
     "showTitle": false,
     "tableResultSettingsMap": {},
     "title": ""
    }
   },
   "outputs": [
    {
     "name": "stdout",
     "output_type": "stream",
     "text": [
      "Out[6]: (-73.9862251282, 40.7568799674)"
     ]
    }
   ],
   "source": [
    "gowalla_nyc_rdd.filter(lambda r: r.isWeekend)\\\n",
    "    .map(lambda r: ((r.lng, r.lat), 1))\\\n",
    "    .reduceByKey(lambda a, b: a + b)\\\n",
    "    .max(key=lambda x: x[1])[0]"
   ]
  },
  {
   "cell_type": "markdown",
   "metadata": {
    "application/vnd.databricks.v1+cell": {
     "cellMetadata": {
      "byteLimit": 2048000,
      "rowLimit": 10000
     },
     "inputWidgets": {},
     "nuid": "7c305f0e-3f68-4915-8fa5-bdd4b271d3dd",
     "showTitle": false,
     "tableResultSettingsMap": {},
     "title": ""
    }
   },
   "source": [
    "## 3.3. What is the average number of visitors in July across all years in the dataset?\n",
    "\n",
    "**Note**: the expected answer is a single number representing the (total number of visitors) / (total number of places)\n",
    "\n",
    "**Note 2**: a user can be count one time per place\n",
    "\n",
    "You **must** perform this calculation using a single string of RDD map-reduce transformations ending with a single action, and no other commands - both PySpark commands specifically, and Python commands generally!\n",
    "<div style=\"color:blue\">(16 points)</div>"
   ]
  },
  {
   "cell_type": "code",
   "execution_count": 0,
   "metadata": {
    "application/vnd.databricks.v1+cell": {
     "cellMetadata": {
      "byteLimit": 2048000,
      "rowLimit": 10000
     },
     "inputWidgets": {},
     "nuid": "9772cdb5-35f1-45de-9db0-0b7b2137ab14",
     "showTitle": false,
     "tableResultSettingsMap": {},
     "title": ""
    }
   },
   "outputs": [
    {
     "name": "stdout",
     "output_type": "stream",
     "text": [
      "Out[7]: 2.5038991560730692"
     ]
    }
   ],
   "source": [
    "gowalla_nyc_rdd.filter(lambda r: r.Month==7)\\\n",
    "    .map(lambda r: (r.placeid, {r.userid}))\\\n",
    "    .reduceByKey(lambda a,b: a.union(b))\\\n",
    "    .map(lambda r: (None, (len(r[1]), 1)))\\\n",
    "    .reduceByKey(lambda a, b: (a[0] + b[0], a[1] + b[1]))\\\n",
    "    .map(lambda x: x[1][0] / x[1][1])\\\n",
    "    .collect()[0]"
   ]
  },
  {
   "cell_type": "markdown",
   "metadata": {
    "application/vnd.databricks.v1+cell": {
     "cellMetadata": {
      "byteLimit": 2048000,
      "rowLimit": 10000
     },
     "inputWidgets": {},
     "nuid": "1d09519c-4b3e-4c33-8753-986d348aa700",
     "showTitle": false,
     "tableResultSettingsMap": {},
     "title": ""
    }
   },
   "source": [
    "## 3.4. What is the place id visited by the largest number of users? \n",
    "## What is its category? \n",
    "## How many unique users visited it?  \n",
    "\n",
    "**Note:** the expected answer includes placeid, its category and number of unique users visited it\n",
    "\n",
    "You **must** perform this calculation using a single string of RDD map-reduce transformations ending with a single action, and no other commands - both PySpark commands specifically, and Python commands generally!\n",
    "\n",
    "<div style=\"color:blue\">(18 points)</div>"
   ]
  },
  {
   "cell_type": "code",
   "execution_count": 0,
   "metadata": {
    "application/vnd.databricks.v1+cell": {
     "cellMetadata": {
      "byteLimit": 2048000,
      "rowLimit": 10000
     },
     "inputWidgets": {},
     "nuid": "2f98da04-6288-4132-a46d-00ee5de7501a",
     "showTitle": false,
     "tableResultSettingsMap": {},
     "title": ""
    }
   },
   "outputs": [
    {
     "name": "stdout",
     "output_type": "stream",
     "text": [
      "Out[12]: (11844, 'Entertainment', 3458)"
     ]
    }
   ],
   "source": [
    "gowalla_nyc_rdd.map(lambda r: (r.placeid, (r.gencat, {r.userid})))\\\n",
    "    .reduceByKey(lambda a, b: (a[0], a[1].union(b[1])))\\\n",
    "    .map(lambda r: (r[0], r[1][0], len(r[1][1])))\\\n",
    "    .max(key=lambda x: x[2])\n",
    "\n",
    "# gowalla_nyc_rdd.map(lambda r: (r.placeid, (r.gencat, 1, {r.userid})))\\\n",
    "#     .reduceByKey(lambda a, b: (a[0], a[1] + b[1], a[2].union(b[2])))\\\n",
    "#     .map(lambda r: (r[0], r[1][0], r[1][1], len(r[1][2])))\\\n",
    "#     .max(key=lambda x: x[2])\n"
   ]
  },
  {
   "cell_type": "markdown",
   "metadata": {
    "application/vnd.databricks.v1+cell": {
     "cellMetadata": {
      "byteLimit": 2048000,
      "rowLimit": 10000
     },
     "inputWidgets": {},
     "nuid": "6ab2cce0-aceb-42d5-8b1b-397d5bd43b94",
     "showTitle": false,
     "tableResultSettingsMap": {},
     "title": ""
    }
   },
   "source": [
    "## 3.5. Was there a user who visited more than 100 different places during the summer of 2011? \n",
    "\n",
    "**Note:** Your job has to return a `True` or `False` value.\n",
    "\n",
    "You **must** perform this calculation using a single string of RDD map-reduce transformations ending with a single action, and no other commands - both PySpark commands specifically, and Python commands generally!\n",
    "<div style=\"color:blue\">(18 points)</div>"
   ]
  },
  {
   "cell_type": "code",
   "execution_count": 0,
   "metadata": {
    "application/vnd.databricks.v1+cell": {
     "cellMetadata": {
      "byteLimit": 2048000,
      "rowLimit": 10000
     },
     "inputWidgets": {},
     "nuid": "3f161c29-1ccb-4c3a-ad7c-00c583410d64",
     "showTitle": false,
     "tableResultSettingsMap": {},
     "title": ""
    }
   },
   "outputs": [
    {
     "name": "stdout",
     "output_type": "stream",
     "text": [
      "Out[9]: True"
     ]
    }
   ],
   "source": [
    "gowalla_nyc_rdd.filter(lambda r: r.Season == \"Summer\" and r.datetime.year == 2011)\\\n",
    "  .map(lambda r: (r.userid, {r.placeid}))\\\n",
    "  .reduceByKey(lambda a, b: a.union(b))\\\n",
    "  .map(lambda r: (r[0], len(r[1])))\\\n",
    "  .filter(lambda r: r[1] > 100)\\\n",
    "  .count() > 0"
   ]
  },
  {
   "cell_type": "markdown",
   "metadata": {
    "application/vnd.databricks.v1+cell": {
     "cellMetadata": {
      "byteLimit": 2048000,
      "rowLimit": 10000
     },
     "inputWidgets": {},
     "nuid": "da77b7ca-bf9d-4aad-8693-43c2f36fd653",
     "showTitle": false,
     "tableResultSettingsMap": {},
     "title": ""
    }
   },
   "source": [
    "## 3.6. Which part of day can produce the greatest bias for an ML model, when divided by the weekend indicator?\n",
    "\n",
    "**Hint:** a higher non-weekend:weekend ratio might point to a bias for an ML model\n",
    "\n",
    "**Note:** the expected answer is a tuple with the part of day and the ratio \n",
    "\n",
    "You **must** perform this calculation using a single string of RDD map-reduce transformations ending with a single action, and no other commands - both PySpark commands specifically, and Python commands generally!\n",
    "<div style=\"color:blue\">(22 points)</div>"
   ]
  },
  {
   "cell_type": "code",
   "execution_count": 0,
   "metadata": {
    "application/vnd.databricks.v1+cell": {
     "cellMetadata": {
      "byteLimit": 2048000,
      "rowLimit": 10000
     },
     "inputWidgets": {},
     "nuid": "4ca385ee-fe55-4db4-8d27-77233b0e0144",
     "showTitle": false,
     "tableResultSettingsMap": {},
     "title": ""
    }
   },
   "outputs": [
    {
     "name": "stdout",
     "output_type": "stream",
     "text": [
      "Out[10]: ('Morning', 2.6428978893325725)"
     ]
    }
   ],
   "source": [
    "gowalla_nyc_rdd.map(lambda r: (r.partOfDay, (0, 1)) if r.isWeekend else (r.partOfDay, (1, 0)))\\\n",
    "   .reduceByKey(lambda a, b: (a[0] + b[0], a[1] + b[1]))\\\n",
    "   .map(lambda r: (r[0], r[1][0] / r[1][1]))\\\n",
    "   .max(key=lambda x: x[1])"
   ]
  },
  {
   "cell_type": "markdown",
   "metadata": {
    "application/vnd.databricks.v1+cell": {
     "cellMetadata": {
      "byteLimit": 2048000,
      "rowLimit": 10000
     },
     "inputWidgets": {},
     "nuid": "62980374-ff7b-4ae1-8c81-a69393438c1c",
     "showTitle": false,
     "tableResultSettingsMap": {},
     "title": ""
    }
   },
   "source": [
    "## Good Luck!"
   ]
  }
 ],
 "metadata": {
  "application/vnd.databricks.v1+notebook": {
   "computePreferences": null,
   "dashboards": [],
   "environmentMetadata": {
    "base_environment": "",
    "environment_version": "1"
   },
   "inputWidgetPreferences": null,
   "language": "python",
   "notebookMetadata": {
    "pythonIndentUnit": 4
   },
   "notebookName": "Ex3",
   "widgets": {}
  },
  "language_info": {
   "name": "python"
  }
 },
 "nbformat": 4,
 "nbformat_minor": 0
}
